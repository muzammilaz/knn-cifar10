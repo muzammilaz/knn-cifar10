{
 "cells": [
  {
   "cell_type": "code",
   "execution_count": 421,
   "metadata": {
    "collapsed": true
   },
   "outputs": [],
   "source": [
    "#importing the necessary libraries\n",
    "import numpy as np\n",
    "import math"
   ]
  },
  {
   "cell_type": "code",
   "execution_count": 422,
   "metadata": {
    "collapsed": true
   },
   "outputs": [],
   "source": [
    "# unpickle method as given by https://www.cs.toronto.edu/~kriz/cifar.html\n",
    "def unpickle(file):\n",
    "    import pickle\n",
    "    with open(file, 'rb') as fo:\n",
    "        dict = pickle.load(fo, encoding='bytes')\n",
    "    return dict"
   ]
  },
  {
   "cell_type": "code",
   "execution_count": 423,
   "metadata": {
    "collapsed": false
   },
   "outputs": [],
   "source": [
    "# defining the K as in K-Nearest Neighbors\n",
    "k=8"
   ]
  },
  {
   "cell_type": "code",
   "execution_count": 424,
   "metadata": {
    "collapsed": true
   },
   "outputs": [],
   "source": [
    "# reading the test set\n",
    "test=unpickle(\"cifar-10-batches-py/test_batch\")"
   ]
  },
  {
   "cell_type": "code",
   "execution_count": 426,
   "metadata": {
    "collapsed": true
   },
   "outputs": [],
   "source": [
    "# reading the test data and labels in seperate variables\n",
    "test_data=test[b'data']\n",
    "test_labels=test[b'labels']"
   ]
  },
  {
   "cell_type": "code",
   "execution_count": 431,
   "metadata": {
    "collapsed": false
   },
   "outputs": [],
   "source": [
    "# initializing a list for all predicted labels for test data\n",
    "knn_labels=[]"
   ]
  },
  {
   "cell_type": "code",
   "execution_count": null,
   "metadata": {
    "collapsed": false,
    "scrolled": false
   },
   "outputs": [],
   "source": [
    "# looping through every example in test data\n",
    "for x in range(0,len(test_data)):\n",
    "#   initializing a list to store the k nearest distances and labels\n",
    "    distances=[]\n",
    "#   looping throught the 6 batches and unpacking each of them to determine neighbors\n",
    "    for i in range(1,6):\n",
    "        b=unpickle(\"cifar-10-batches-py/data_batch_\"+str(i))\n",
    "#       looping through all the training examples to in the Ith batch\n",
    "        for j in range(0,len(b[b'data'])):\n",
    "#           calculating euclidian distance of Xth test example from Jth Training example in Ith batch\n",
    "            distance=math.sqrt(np.sum(np.square(test_data[x]-b[b'data'][j])))\n",
    "#           adding the calculated distance, along with the label of the jth example as a tupple\n",
    "#           see sorted_add function\n",
    "            distances=sorted_add(distances,(distance,b[b'labels'][j]),k)\n",
    "#   flattening the list to apply list comprehension in the next step\n",
    "    flat=list(sum(distances, ()))\n",
    "#   selecting all the class labels i.e every odd element of flattened list\n",
    "    lbls=[flat[i] for i in range(1,len(flat),2)]\n",
    "#   finding the label that occurs most times in labels list (majority voting)\n",
    "    pred=max(set(lbls), key=lbls.count)\n",
    "#   adding the predicted label to a list\n",
    "    knn_labels.append(pred)"
   ]
  },
  {
   "cell_type": "code",
   "execution_count": 444,
   "metadata": {
    "collapsed": false
   },
   "outputs": [],
   "source": [
    "# initializing correctly predicted counts for all labels\n",
    "correct=[0,0,0,0,0,0,0,0,0,0]\n",
    "# for every predicted label comparing it with the true label\n",
    "for i in range(0,len(knn_labels)):\n",
    "    if int(knn_labels[i]) == test_labels[i]:\n",
    "#           counting the correctly predicted lables\n",
    "            correct[test_labels[i]]+=1"
   ]
  },
  {
   "cell_type": "code",
   "execution_count": 456,
   "metadata": {
    "collapsed": false
   },
   "outputs": [
    {
     "name": "stdout",
     "output_type": "stream",
     "text": [
      "Overall Model Accurary is 10.58\n"
     ]
    }
   ],
   "source": [
    "# Model accuracy\n",
    "class_acc=(np.array(correct)/1000)*100\n",
    "print(\"Overall Model Accurary is\", np.mean(class_acc))"
   ]
  },
  {
   "cell_type": "code",
   "execution_count": 457,
   "metadata": {
    "collapsed": false
   },
   "outputs": [],
   "source": [
    "# sorted_arr takes 3 arguments\n",
    "# 1. The list in which the item is needed to be add in\n",
    "# 2. The item itself, here is a tuple for it eg. (distance, label)\n",
    "# 3. The K, as in K-Nearest Neighbor (only K smallest elements will remain in the list at the end)\n",
    "def sorted_add(ar,item,k):\n",
    "#   adding first k elements directly into the array\n",
    "    if len(ar)<k:\n",
    "        ar.append(item)\n",
    "        return ar\n",
    "#   finding the tuple with max value of distance in it\n",
    "    checker=max([ar[i] for i in range(1,len(ar),2)])\n",
    "#   checking if the distance in given item is smaller that the current max\n",
    "    if (int(item[1])<int(checker[1])):\n",
    "#       if it is, then taking the index of the current max\n",
    "        index=ar.index(checker)\n",
    "#       and deleting that element from the list\n",
    "        del ar[index]\n",
    "#       then adding the given element to the list\n",
    "        ar.append(item)\n",
    "#   returning the array, Note: this array itself will be unsorted,\n",
    "#   because order in the k-nearest neighbors does not matter for majority voting\n",
    "    return ar"
   ]
  }
 ],
 "metadata": {
  "kernelspec": {
   "display_name": "Python 3",
   "language": "python",
   "name": "python3"
  },
  "language_info": {
   "codemirror_mode": {
    "name": "ipython",
    "version": 3
   },
   "file_extension": ".py",
   "mimetype": "text/x-python",
   "name": "python",
   "nbconvert_exporter": "python",
   "pygments_lexer": "ipython3",
   "version": "3.6.0"
  }
 },
 "nbformat": 4,
 "nbformat_minor": 2
}
